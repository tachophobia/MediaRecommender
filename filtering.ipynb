{
 "cells": [
  {
   "cell_type": "code",
   "execution_count": 1,
   "metadata": {},
   "outputs": [],
   "source": [
    "%matplotlib inline\n",
    "\n",
    "import pandas as pd\n",
    "import numpy as np\n",
    "import math\n",
    "\n",
    "import seaborn as sns\n",
    "import matplotlib.pyplot as plt\n",
    "import plotly.express as px"
   ]
  },
  {
   "cell_type": "code",
   "execution_count": 2,
   "metadata": {},
   "outputs": [
    {
     "data": {
      "text/plain": [
       "Index(['movie title', 'Run Time', 'Rating', 'User Rating', 'Genres',\n",
       "       'Overview', 'Plot Keyword', 'Director', 'Top 5 Casts', 'Writer', 'year',\n",
       "       'path'],\n",
       "      dtype='object')"
      ]
     },
     "execution_count": 2,
     "metadata": {},
     "output_type": "execute_result"
    }
   ],
   "source": [
    "movies = pd.read_csv('data/IMDbMovies.csv')\n",
    "movies.columns"
   ]
  },
  {
   "cell_type": "code",
   "execution_count": 3,
   "metadata": {},
   "outputs": [],
   "source": [
    "def txt_to_int(txt):\n",
    "    end = txt[-1]\n",
    "    if end.isdigit():\n",
    "        return int(txt)\n",
    "\n",
    "    factor = 1\n",
    "    if end == 'M':\n",
    "        factor = 1e6\n",
    "    elif end == 'K':\n",
    "        factor = 1e3\n",
    "\n",
    "    return int(factor * float(txt[:-1]))\n",
    "\n",
    "def to_float(txt):\n",
    "    try:\n",
    "        return float(txt)\n",
    "    except:\n",
    "        return np.nan\n",
    "    \n",
    "def to_date(txt):\n",
    "    try:\n",
    "        return txt[1:]\n",
    "    except:\n",
    "        return txt\n",
    "\n",
    "def preprocess(data : pd.DataFrame, dropna=True):\n",
    "    df = pd.DataFrame()\n",
    "    df['title'] = data['movie title']\n",
    "    df['votes'] = data['User Rating'].apply(txt_to_int)\n",
    "    df['rating'] = data['Rating'].apply(to_float) * np.log(df['votes'])\n",
    "\n",
    "    df['writer'] = data['Writer']\n",
    "    df['director'] = data['Director']\n",
    "\n",
    "    to_expression = lambda x: eval(x)\n",
    "    df['actors'] = data['Top 5 Casts'].apply(to_expression)\n",
    "    df['genres'] = data['Genres'].apply(to_expression)\n",
    "    df['plotwords'] = data['Plot Keyword'].apply(to_expression)\n",
    "    df['year'] = data['year'].apply(to_date)\n",
    "\n",
    "    if dropna:\n",
    "        # NaN occurs when not enough people have watched the film\n",
    "        # OR\n",
    "        # enough data wasn't collected\n",
    "        df.dropna(inplace=True)\n",
    "\n",
    "    df.sort_values('rating', ascending=False, inplace=True)\n",
    "    df.drop_duplicates(subset='title', keep='first', inplace=True)\n",
    "\n",
    "    return df\n"
   ]
  },
  {
   "attachments": {},
   "cell_type": "markdown",
   "metadata": {},
   "source": [
    "### Adjusted Rating is calculated by $s\\log_{10}{(v)}$\n",
    "where\n",
    "\n",
    "${s =}$ Average IMDb Score\n",
    "\n",
    "${v =}$ Number of Votes"
   ]
  },
  {
   "cell_type": "code",
   "execution_count": 4,
   "metadata": {},
   "outputs": [
    {
     "name": "stderr",
     "output_type": "stream",
     "text": [
      "/home/javkt/anaconda3/lib/python3.9/site-packages/pandas/core/arraylike.py:397: RuntimeWarning: divide by zero encountered in log\n",
      "  result = getattr(ufunc, method)(*inputs, **kwargs)\n"
     ]
    },
    {
     "data": {
      "image/png": "[encoded data removed]",
      "text/plain": [
       "<Figure size 500x500 with 1 Axes>"
      ]
     },
     "metadata": {},
     "output_type": "display_data"
    },
    {
     "data": {
      "text/html": [
       "<div>\n",
       "<style scoped>\n",
       "    .dataframe tbody tr th:only-of-type {\n",
       "        vertical-align: middle;\n",
       "    }\n",
       "\n",
       "    .dataframe tbody tr th {\n",
       "        vertical-align: top;\n",
       "    }\n",
       "\n",
       "    .dataframe thead th {\n",
       "        text-align: right;\n",
       "    }\n",
       "</style>\n",
       "<table border=\"1\" class=\"dataframe\">\n",
       "  <thead>\n",
       "    <tr style=\"text-align: right;\">\n",
       "      <th></th>\n",
       "      <th>title</th>\n",
       "      <th>votes</th>\n",
       "      <th>rating</th>\n",
       "      <th>writer</th>\n",
       "      <th>director</th>\n",
       "      <th>actors</th>\n",
       "      <th>genres</th>\n",
       "      <th>plotwords</th>\n",
       "      <th>year</th>\n",
       "    </tr>\n",
       "  </thead>\n",
       "  <tbody>\n",
       "    <tr>\n",
       "      <th>8021</th>\n",
       "      <td>The Shawshank Redemption</td>\n",
       "      <td>2600000</td>\n",
       "      <td>137.370505</td>\n",
       "      <td>Stephen King</td>\n",
       "      <td>Frank Darabont</td>\n",
       "      <td>[Frank Darabont, Tim Robbins, Morgan Freeman, ...</td>\n",
       "      <td>[Drama]</td>\n",
       "      <td>[wrongful imprisonment, prison, based on the w...</td>\n",
       "      <td>1994</td>\n",
       "    </tr>\n",
       "    <tr>\n",
       "      <th>51</th>\n",
       "      <td>The Dark Knight</td>\n",
       "      <td>2600000</td>\n",
       "      <td>132.939198</td>\n",
       "      <td>Jonathan Nolan</td>\n",
       "      <td>Christopher Nolan</td>\n",
       "      <td>[Christopher Nolan, David S. Goyer, Christian ...</td>\n",
       "      <td>[Action, Crime, Drama]</td>\n",
       "      <td>[dc comics, moral dilemma, psychopath, clown, ...</td>\n",
       "      <td>2008</td>\n",
       "    </tr>\n",
       "    <tr>\n",
       "      <th>7999</th>\n",
       "      <td>The Godfather</td>\n",
       "      <td>1800000</td>\n",
       "      <td>132.510334</td>\n",
       "      <td>Mario Puzo</td>\n",
       "      <td>Francis Ford Coppola</td>\n",
       "      <td>[Francis Ford Coppola, Marlon Brando, Al Pacin...</td>\n",
       "      <td>[Crime, Drama]</td>\n",
       "      <td>[mafia, patriarch, crime family, organized cri...</td>\n",
       "      <td>1972</td>\n",
       "    </tr>\n",
       "    <tr>\n",
       "      <th>146</th>\n",
       "      <td>The Lord of the Rings: The Return of the King</td>\n",
       "      <td>1800000</td>\n",
       "      <td>129.629675</td>\n",
       "      <td>J.R.R. Tolkien</td>\n",
       "      <td>Peter Jackson</td>\n",
       "      <td>[Fran Walsh, Philippa Boyens, Elijah Wood, Vig...</td>\n",
       "      <td>[Action, Adventure, Drama]</td>\n",
       "      <td>[epic, orc, hobbit, ring, middle earth, battle...</td>\n",
       "      <td>2003</td>\n",
       "    </tr>\n",
       "    <tr>\n",
       "      <th>8042</th>\n",
       "      <td>Pulp Fiction</td>\n",
       "      <td>2000000</td>\n",
       "      <td>129.127054</td>\n",
       "      <td>Quentin Tarantino</td>\n",
       "      <td>Quentin Tarantino</td>\n",
       "      <td>[Roger Avary, John Travolta, Uma Thurman, Samu...</td>\n",
       "      <td>[Crime, Drama]</td>\n",
       "      <td>[nonlinear timeline, overdose, drug use, drug ...</td>\n",
       "      <td>1994</td>\n",
       "    </tr>\n",
       "  </tbody>\n",
       "</table>\n",
       "</div>"
      ],
      "text/plain": [
       "                                              title    votes      rating  \\\n",
       "8021                       The Shawshank Redemption  2600000  137.370505   \n",
       "51                                  The Dark Knight  2600000  132.939198   \n",
       "7999                                  The Godfather  1800000  132.510334   \n",
       "146   The Lord of the Rings: The Return of the King  1800000  129.629675   \n",
       "8042                                   Pulp Fiction  2000000  129.127054   \n",
       "\n",
       "                 writer              director  \\\n",
       "8021       Stephen King        Frank Darabont   \n",
       "51       Jonathan Nolan     Christopher Nolan   \n",
       "7999         Mario Puzo  Francis Ford Coppola   \n",
       "146      J.R.R. Tolkien         Peter Jackson   \n",
       "8042  Quentin Tarantino     Quentin Tarantino   \n",
       "\n",
       "                                                 actors  \\\n",
       "8021  [Frank Darabont, Tim Robbins, Morgan Freeman, ...   \n",
       "51    [Christopher Nolan, David S. Goyer, Christian ...   \n",
       "7999  [Francis Ford Coppola, Marlon Brando, Al Pacin...   \n",
       "146   [Fran Walsh, Philippa Boyens, Elijah Wood, Vig...   \n",
       "8042  [Roger Avary, John Travolta, Uma Thurman, Samu...   \n",
       "\n",
       "                          genres  \\\n",
       "8021                     [Drama]   \n",
       "51        [Action, Crime, Drama]   \n",
       "7999              [Crime, Drama]   \n",
       "146   [Action, Adventure, Drama]   \n",
       "8042              [Crime, Drama]   \n",
       "\n",
       "                                              plotwords  year  \n",
       "8021  [wrongful imprisonment, prison, based on the w...  1994  \n",
       "51    [dc comics, moral dilemma, psychopath, clown, ...  2008  \n",
       "7999  [mafia, patriarch, crime family, organized cri...  1972  \n",
       "146   [epic, orc, hobbit, ring, middle earth, battle...  2003  \n",
       "8042  [nonlinear timeline, overdose, drug use, drug ...  1994  "
      ]
     },
     "execution_count": 4,
     "metadata": {},
     "output_type": "execute_result"
    }
   ],
   "source": [
    "df = preprocess(movies)\n",
    "sns.displot(df.rating)\n",
    "plt.show()\n",
    "df.head()"
   ]
  },
  {
   "cell_type": "code",
   "execution_count": 5,
   "metadata": {},
   "outputs": [],
   "source": [
    "def get_people(column, min_appearances=3, log_base=5):\n",
    "    people = {}\n",
    "    for i, person in enumerate(df[column]):\n",
    "        if type(person) != str:\n",
    "            for p in person:\n",
    "                if p not in people:\n",
    "                    people[p] = [df['rating'].iloc[i]]\n",
    "                else:\n",
    "                    people[p].append(df['rating'].iloc[i])\n",
    "        else:\n",
    "            if person not in people:\n",
    "                people[person] = [df['rating'].iloc[i]]\n",
    "            else:\n",
    "                people[person].append(df['rating'].iloc[i])\n",
    "    \n",
    "    people_df = pd.DataFrame(columns=['rating', 'appearances', 'likeability'])\n",
    "    people_df['name'] = people.keys()\n",
    "    people_df.index = people_df['name']\n",
    "    people_df.drop('name', axis=1, inplace=True)\n",
    "    \n",
    "    for person in people:\n",
    "        len_ = len(people[person])\n",
    "        if len_ < min_appearances:\n",
    "            continue\n",
    "\n",
    "        max_ = max(people[person])\n",
    "        mean_ = np.mean(people[person])\n",
    "        upper_bound = (mean_ + np.std(people[person], ddof=1))/max_\n",
    "\n",
    "        people_df.loc[person] = [max_, len_, max_*upper_bound*math.log(len_, log_base)]\n",
    "        \n",
    "    people_df.sort_values('likeability', ascending=False, inplace=True)\n",
    "    people_df.dropna(inplace=True)\n",
    "    return people_df\n"
   ]
  },
  {
   "cell_type": "code",
   "execution_count": 6,
   "metadata": {},
   "outputs": [],
   "source": [
    "get_people('actors').to_csv('data/actors.csv', index=False)\n",
    "get_people('director').to_csv('data/directors.csv', index=False)\n",
    "get_people('writer').to_csv('data/writers.csv', index=False)\n",
    "df.to_csv('data/movies.csv', index=False)"
   ]
  },
  {
   "cell_type": "code",
   "execution_count": 7,
   "metadata": {},
   "outputs": [
    {
     "data": {
      "text/plain": [
       "['Drama',\n",
       " 'Action',\n",
       " 'Crime',\n",
       " 'Adventure',\n",
       " 'Sci-Fi',\n",
       " 'Romance',\n",
       " 'Biography',\n",
       " 'History',\n",
       " 'Mystery',\n",
       " 'Thriller',\n",
       " 'War',\n",
       " 'Fantasy',\n",
       " 'Western',\n",
       " 'Comedy',\n",
       " 'Animation',\n",
       " 'Family',\n",
       " 'Horror',\n",
       " 'Music',\n",
       " 'Sport',\n",
       " 'Film-Noir',\n",
       " 'Musical',\n",
       " 'Reality-TV',\n",
       " 'Adult',\n",
       " 'Game-Show']"
      ]
     },
     "execution_count": 7,
     "metadata": {},
     "output_type": "execute_result"
    }
   ],
   "source": [
    "genre_list = []\n",
    "for generes in df['genres']:\n",
    "    for genre in generes:\n",
    "        if genre not in genre_list:\n",
    "            genre_list.append(genre)\n",
    "genre_list\n"
   ]
  }
 ],
 "metadata": {
  "kernelspec": {
   "display_name": "base",
   "language": "python",
   "name": "python3"
  },
  "language_info": {
   "codemirror_mode": {
    "name": "ipython",
    "version": 3
   },
   "file_extension": ".py",
   "mimetype": "text/x-python",
   "name": "python",
   "nbconvert_exporter": "python",
   "pygments_lexer": "ipython3",
   "version": "3.9.13"
  },
  "orig_nbformat": 4
 },
 "nbformat": 4,
 "nbformat_minor": 2
}
